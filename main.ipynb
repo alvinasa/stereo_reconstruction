{
 "cells": [
  {
   "cell_type": "markdown",
   "metadata": {},
   "source": [
    "## Manually picked points"
   ]
  },
  {
   "cell_type": "code",
   "execution_count": 168,
   "metadata": {},
   "outputs": [
    {
     "name": "stdout",
     "output_type": "stream",
     "text": [
      "Testing x1:\n",
      "[220. 218.   1.]\n",
      "[245. 186.   1.]\n",
      "[241. 285.   1.]\n",
      "[467. 191.   1.]\n",
      "[526. 147.   1.]\n",
      "[592. 149.   1.]\n",
      "[651. 157.   1.]\n",
      "[692. 246.   1.]\n",
      "Testing x2:\n",
      "[206. 250.   1.]\n",
      "[229. 216.   1.]\n",
      "[226. 317.   1.]\n",
      "[452. 222.   1.]\n",
      "[513. 179.   1.]\n",
      "[575. 180.   1.]\n",
      "[635. 187.   1.]\n",
      "[668. 277.   1.]\n",
      "\n",
      "---------Matrix results---------\n",
      "\n",
      "F by custom function:\n",
      "[ 4.27921558e-07 -2.32945173e-04  4.01701313e-02]\n",
      "[ 2.21166164e-04 -2.80947009e-05 -8.45147307e-02]\n",
      "[-0.04481939  0.09881204  1.        ]\n",
      "\n",
      "F_norm by custom function:\n",
      "[ 3.81707687e-07 -1.95563911e-04  3.35735841e-02]\n",
      "[ 1.85734790e-04 -2.35640605e-05 -7.10631077e-02]\n",
      "[-0.03780898  0.08287581  1.        ]\n",
      "\n",
      "F by OpenCV package:\n",
      "[ 4.31497590e-07 -1.89856693e-04  3.25568160e-02]\n",
      "[ 1.80383672e-04 -2.28598464e-05 -6.90281111e-02]\n",
      "[-0.03675722  0.08044706  1.        ]\n"
     ]
    }
   ],
   "source": [
    "# image pair 01\n",
    "!python main.py \\\n",
    "    --manual \\\n",
    "    --dir_x1=./data/points/01_x1.txt \\\n",
    "    --dir_x2=./data/points/01_x2.txt"
   ]
  },
  {
   "cell_type": "code",
   "execution_count": 167,
   "metadata": {},
   "outputs": [
    {
     "name": "stdout",
     "output_type": "stream",
     "text": [
      "Testing x1:\n",
      "[234. 212.   1.]\n",
      "[257. 180.   1.]\n",
      "[254. 280.   1.]\n",
      "[476. 186.   1.]\n",
      "[539. 143.   1.]\n",
      "[603. 144.   1.]\n",
      "[662. 153.   1.]\n",
      "[708. 244.   1.]\n",
      "Testing x2:\n",
      "[218. 242.   1.]\n",
      "[241. 211.   1.]\n",
      "[240. 314.   1.]\n",
      "[464. 218.   1.]\n",
      "[525. 176.   1.]\n",
      "[589. 176.   1.]\n",
      "[647. 185.   1.]\n",
      "[682. 274.   1.]\n",
      "\n",
      "---------Matrix results---------\n",
      "\n",
      "F by custom function:\n",
      "[ 2.27836125e-07 -2.66091795e-05  1.04663862e-02]\n",
      "[ 2.80440997e-05  4.85347361e-06 -1.29007447e-02]\n",
      "[-0.01218747  0.009503    1.        ]\n",
      "\n",
      "F_norm by custom function:\n",
      "[ 4.11525059e-07 -2.58994399e-05  1.04466958e-02]\n",
      "[ 2.88608032e-05  2.99372128e-06 -1.29110093e-02]\n",
      "[-0.01219211  0.0096048   1.        ]\n",
      "\n",
      "F by OpenCV package:\n",
      "[ 4.00390098e-07 -2.58979498e-05  1.04610246e-02]\n",
      "[ 2.89646365e-05  2.77536344e-06 -1.29013926e-02]\n",
      "[-0.01222673  0.0096668   1.        ]\n"
     ]
    }
   ],
   "source": [
    "# image pair 02\n",
    "!python main.py \\\n",
    "    --manual \\\n",
    "    --dir_x1=./data/points/02_x1.txt \\\n",
    "    --dir_x2=./data/points/02_x2.txt"
   ]
  },
  {
   "cell_type": "markdown",
   "metadata": {},
   "source": [
    "## Automatically detected points"
   ]
  },
  {
   "cell_type": "code",
   "execution_count": 71,
   "metadata": {},
   "outputs": [
    {
     "name": "stdout",
     "output_type": "stream",
     "text": [
      "Number of points detected:  532\n",
      "Number of points used:  126\n",
      "\n",
      "---------Matrix results---------\n",
      "\n",
      "F by custom function:\n",
      "[ 1.98467636e-07 -3.42217729e-05  9.19236609e-03]\n",
      "[ 3.35051339e-05 -4.92041669e-07 -2.88415258e-02]\n",
      "[-0.01026032  0.02877421  1.        ]\n",
      "\n",
      "F_norm by custom function:\n",
      "[ 3.21477247e-08 -1.10230433e-05  2.78417928e-03]\n",
      "[ 9.50077764e-06 -3.76515620e-07 -3.49727815e-02]\n",
      "[-0.00280792  0.03556331  1.        ]\n",
      "\n",
      "F by OpenCV package:\n",
      "[ 3.14539923e-08 -1.08455927e-05  2.73693549e-03]\n",
      "[ 9.31746560e-06 -3.75363742e-07 -3.50157334e-02]\n",
      "[-0.00275318  0.03561107  1.        ]\n",
      "\n",
      "\n",
      "F by RANSAC trained with 8 points:\n",
      "[ 1.51126475e-06 -4.64668849e-06  7.63404744e-02]\n",
      "[1.38635442e-05 3.79272571e-06 2.72903439e-02]\n",
      "[-0.07906256 -0.03243289  1.        ]\n",
      "\n",
      "Number of inliners:  52\n",
      "\n",
      "F by RANSAC with all best inliners:\n",
      "[ 5.79051735e-07 -9.06730760e-05  2.95577847e-02]\n",
      "[ 9.14199991e-05  2.60679444e-07 -1.36510080e-02]\n",
      "[-0.03296256  0.01190257  1.        ]\n"
     ]
    }
   ],
   "source": [
    "# image pair 01\n",
    "!python main.py \\\n",
    "    --dir_img1=./data/non-rectified/01/im0.png \\\n",
    "    --dir_img2=./data/non-rectified/01/im1.png \\\n",
    "    --use_ransac \\\n",
    "    --min_data=8 \\\n",
    "    --min_close_data=30 \\\n",
    "    --max_iteration=1000 \\\n",
    "    --max_error=2"
   ]
  },
  {
   "cell_type": "code",
   "execution_count": null,
   "metadata": {},
   "outputs": [],
   "source": []
  }
 ],
 "metadata": {
  "kernelspec": {
   "display_name": "Python 3",
   "language": "python",
   "name": "python3"
  },
  "language_info": {
   "codemirror_mode": {
    "name": "ipython",
    "version": 3
   },
   "file_extension": ".py",
   "mimetype": "text/x-python",
   "name": "python",
   "nbconvert_exporter": "python",
   "pygments_lexer": "ipython3",
   "version": "3.6.5"
  }
 },
 "nbformat": 4,
 "nbformat_minor": 2
}
