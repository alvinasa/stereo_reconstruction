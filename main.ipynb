{
 "cells": [
  {
   "cell_type": "code",
   "execution_count": 6,
   "metadata": {},
   "outputs": [
    {
     "name": "stdout",
     "output_type": "stream",
     "text": [
      "\n",
      "---------Matrix results---------\n",
      "Testing x1:\n",
      "[220. 218.   1.]\n",
      "[245. 186.   1.]\n",
      "[241. 285.   1.]\n",
      "[467. 191.   1.]\n",
      "[526. 147.   1.]\n",
      "[592. 149.   1.]\n",
      "[651. 157.   1.]\n",
      "[692. 246.   1.]\n",
      "Testing x2:\n",
      "[206. 250.   1.]\n",
      "[229. 216.   1.]\n",
      "[226. 317.   1.]\n",
      "[452. 222.   1.]\n",
      "[513. 179.   1.]\n",
      "[575. 180.   1.]\n",
      "[635. 187.   1.]\n",
      "[668. 277.   1.]\n",
      "\n",
      "F by custom function:\n",
      "[ 4.27921558e-07 -2.32945173e-04  4.01701313e-02]\n",
      "[ 2.21166164e-04 -2.80947009e-05 -8.45147307e-02]\n",
      "[-0.04481939  0.09881204  1.        ]\n",
      "F_norm by custom function:\n",
      "[ 3.81707687e-07 -1.95563911e-04  3.35735841e-02]\n",
      "[ 1.85734790e-04 -2.35640605e-05 -7.10631077e-02]\n",
      "[-0.03780898  0.08287581  1.        ]\n",
      "F by OpenCV package:\n",
      "[ 4.31497590e-07 -1.89856693e-04  3.25568160e-02]\n",
      "[ 1.80383672e-04 -2.28598464e-05 -6.90281111e-02]\n",
      "[-0.03675722  0.08044706  1.        ]\n"
     ]
    }
   ],
   "source": [
    "# image pair 01\n",
    "!python main.py \\\n",
    "    --dir_x1=./data/points/01_x1.txt \\\n",
    "    --dir_x2=./data/points/01_x2.txt"
   ]
  },
  {
   "cell_type": "code",
   "execution_count": 5,
   "metadata": {},
   "outputs": [
    {
     "name": "stdout",
     "output_type": "stream",
     "text": [
      "\n",
      "---------Matrix results---------\n",
      "Testing x1:\n",
      "[234. 212.   1.]\n",
      "[257. 180.   1.]\n",
      "[254. 280.   1.]\n",
      "[476. 186.   1.]\n",
      "[539. 143.   1.]\n",
      "[603. 144.   1.]\n",
      "[662. 153.   1.]\n",
      "[708. 244.   1.]\n",
      "Testing x2:\n",
      "[218. 242.   1.]\n",
      "[241. 211.   1.]\n",
      "[240. 314.   1.]\n",
      "[464. 218.   1.]\n",
      "[525. 176.   1.]\n",
      "[589. 176.   1.]\n",
      "[647. 185.   1.]\n",
      "[682. 274.   1.]\n",
      "\n",
      "F by custom function:\n",
      "[ 2.27836125e-07 -2.66091795e-05  1.04663862e-02]\n",
      "[ 2.80440997e-05  4.85347361e-06 -1.29007447e-02]\n",
      "[-0.01218747  0.009503    1.        ]\n",
      "F_norm by custom function:\n",
      "[ 4.11525059e-07 -2.58994399e-05  1.04466958e-02]\n",
      "[ 2.88608032e-05  2.99372128e-06 -1.29110093e-02]\n",
      "[-0.01219211  0.0096048   1.        ]\n",
      "F by OpenCV package:\n",
      "[ 4.00390098e-07 -2.58979498e-05  1.04610246e-02]\n",
      "[ 2.89646365e-05  2.77536344e-06 -1.29013926e-02]\n",
      "[-0.01222673  0.0096668   1.        ]\n"
     ]
    }
   ],
   "source": [
    "# image pair 02\n",
    "!python main.py \\\n",
    "    --dir_x1=./data/points/02_x1.txt \\\n",
    "    --dir_x2=./data/points/02_x2.txt"
   ]
  },
  {
   "cell_type": "code",
   "execution_count": null,
   "metadata": {},
   "outputs": [],
   "source": []
  }
 ],
 "metadata": {
  "kernelspec": {
   "display_name": "Python 3",
   "language": "python",
   "name": "python3"
  },
  "language_info": {
   "codemirror_mode": {
    "name": "ipython",
    "version": 3
   },
   "file_extension": ".py",
   "mimetype": "text/x-python",
   "name": "python",
   "nbconvert_exporter": "python",
   "pygments_lexer": "ipython3",
   "version": "3.6.5"
  }
 },
 "nbformat": 4,
 "nbformat_minor": 2
}
