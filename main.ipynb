{
 "cells": [
  {
   "cell_type": "code",
   "execution_count": 5,
   "metadata": {},
   "outputs": [
    {
     "name": "stdout",
     "output_type": "stream",
     "text": [
      "\n",
      "---------Matrix results---------\n",
      "Testing x1:\n",
      "[0.8500477  0.67156814 1.        ]\n",
      "[0.92698852 0.78499867 1.        ]\n",
      "[0.81319735 0.4218054  1.        ]\n",
      "[0.52601633 0.2271252  1.        ]\n",
      "[0.72186133 0.08132773 1.        ]\n",
      "[0.09416141 0.27317059 1.        ]\n",
      "[0.31589068 0.85550381 1.        ]\n",
      "[0.93773598 0.47190467 1.        ]\n",
      "Testing x2:\n",
      "[0.81559635 0.10143703 1.        ]\n",
      "[0.33664375 0.38401002 1.        ]\n",
      "[0.53209096 0.22477149 1.        ]\n",
      "[0.02290529 0.46894015 1.        ]\n",
      "[0.86718128 0.17062523 1.        ]\n",
      "[0.24757177 0.4519267  1.        ]\n",
      "[0.58206311 0.47487322 1.        ]\n",
      "[0.72961695 0.99945181 1.        ]\n",
      "\n",
      "F by custom function:\n",
      "[ 1.01882742  0.41417945 -0.98678429]\n",
      "[ 0.98893136  1.74597216 -1.77846554]\n",
      "[-0.8259114  -0.66339679  1.        ]\n",
      "F_norm by custom function:\n",
      "[ 0.99133654  0.40868075 -0.79920372]\n",
      "[ 0.94986041  1.67311298 -1.46890637]\n",
      "[-0.98399592 -0.78240819  1.        ]\n",
      "F by OpenCV package:\n",
      "[ 1.02391245  0.41934107 -0.99260156]\n",
      "[ 0.98662877  1.74019641 -1.78161045]\n",
      "[-0.82682999 -0.65997253  1.        ]\n",
      "\n",
      "---------Test point results---------\n",
      "Testing a point:  [0.59071099 0.24465297 1.        ] \n",
      "\n",
      "Epiline by custom function:\n",
      "[ 0.60183255  0.24466035 -0.58290433]\n",
      "[ 0.241945    0.42715728 -0.43510688]\n",
      "[-0.8259114  -0.66339679  1.        ]\n",
      "Epiline by custom function normalized:\n",
      "[ 0.58559339  0.24141221 -0.47209842]\n",
      "[ 0.23238617  0.40933206 -0.35937231]\n",
      "[-0.98399592 -0.78240819  1.        ]\n",
      "Epiline by OpenCV package\n",
      "[ 0.60483634  0.24770938 -0.58634065]\n",
      "[ 0.24138166  0.42574422 -0.43587629]\n",
      "[-0.82682999 -0.65997253  1.        ]\n"
     ]
    }
   ],
   "source": [
    "!python main.py"
   ]
  },
  {
   "cell_type": "code",
   "execution_count": null,
   "metadata": {},
   "outputs": [],
   "source": []
  }
 ],
 "metadata": {
  "kernelspec": {
   "display_name": "Python 3",
   "language": "python",
   "name": "python3"
  },
  "language_info": {
   "codemirror_mode": {
    "name": "ipython",
    "version": 3
   },
   "file_extension": ".py",
   "mimetype": "text/x-python",
   "name": "python",
   "nbconvert_exporter": "python",
   "pygments_lexer": "ipython3",
   "version": "3.6.5"
  }
 },
 "nbformat": 4,
 "nbformat_minor": 2
}
